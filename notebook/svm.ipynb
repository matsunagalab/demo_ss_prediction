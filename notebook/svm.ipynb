{
 "cells": [
  {
   "cell_type": "code",
   "execution_count": 1,
   "metadata": {},
   "outputs": [],
   "source": [
    "using DelimitedFiles"
   ]
  },
  {
   "cell_type": "code",
   "execution_count": 2,
   "metadata": {},
   "outputs": [],
   "source": [
    "data = readdlm(\"../Set2018/S2_Data_set.txt\", comments=true, comment_char='#');"
   ]
  },
  {
   "cell_type": "code",
   "execution_count": 3,
   "metadata": {},
   "outputs": [],
   "source": [
    "#--------|-------------------------|--------------------------------------------------------------------------------------------------------------------------------------------------------------------------------------------|\n",
    "# col_nu | column_tag              | column_description                                                                                                                                                                         |\n",
    "#--------|-------------------------|--------------------------------------------------------------------------------------------------------------------------------------------------------------------------------------------|\n",
    "#      1 | subset_type             | {test, valid, train}                                                                                                                                                                       |\n",
    "#      2 | protein_count_in_subset | 1, 2 ... number_of_proteins_in_a_set                                                                                                                                                       |\n",
    "#      3 | pdb_code_plus_chain_id  | pdb_code + chain_id, for example 1BC2 + H = 1BC2H                                                                                                                                          |\n",
    "#      4 | complete_chain_length   | length of the complete chain sequence, for example 567                                                                                                                                     |\n",
    "#      5 | complete_aa_seq         | single string of amino-acid sequence made of 21-letter alphabet (20 standard amino acids + X where X is any modified amino acid which cannot be represented as standard amino acid analog) |\n",
    "#      6 | DSSP_8_label_ss         | single string of 8 secondary-structure labels: {H, E, C, T, G, S, B, I} + X(disordered) where no labels are changed                                                                        |\n",
    "#      7 | Rule_1_3_label_ss       | single string of 3 secondary-structure labels: {H, E, C}                + X(disordered) where {C, S, T}          -> C, {H, I, G} -> H, {E, B} -> E                                         |\n",
    "#      8 | Rule_2_3_label_ss       | single string of 3 secondary-structure labels: {H, E, C}                + X(disordered) where {C, S, B, T, I, G} -> C, {H}       -> H, {E}    -> E                                         |\n",
    "#      9 | 4_label_ss              | single string of 4 secondary-structure labels: {H, E, C, T}             + X(disordered) where {C, S, B, G}       -> C, {H, I}    -> H, {E}    -> E, {T} -> T                               |\n",
    "#     10 | 5_label_ss              | single string of 5 secondary-structure labels: {H, E, C, T, G}          + X(disordered) where {C, S, B}          -> C, {H, I}    -> H, {E}    -> E, {T} -> T, {G} -> G                     |\n",
    "#--------|-------------------------|--------------------------------------------------------------------------------------------------------------------------------------------------------------------------------------------|\n",
    "\n",
    "d_subset_type = data[:, 1]\n",
    "d_protein_count_in_subset = Int.(data[:, 2])\n",
    "d_pdb_code_plus_chain_id = data[:, 3]\n",
    "d_complete_chain_length = Int.(data[:, 4])\n",
    "d_complete_aa_seq = data[:, 5]\n",
    "d_dssp_8_label_ss = data[:, 6]\n",
    "d_rule_1_3_label_ss = data[:, 7]\n",
    "d_rule_2_3_label_ss = data[:, 8]\n",
    "d_4_label_ss = data[:, 9]\n",
    "d_5_label_ss = data[:, 10];"
   ]
  },
  {
   "cell_type": "code",
   "execution_count": 4,
   "metadata": {},
   "outputs": [],
   "source": [
    "# 1-of-K coding of amino acid sequences\n",
    "aa_single_letters = \"GPAVLIMCFYWHKRQNEDSTX\"\n",
    "\n",
    "window_size = 13\n",
    "virtual_vector = zeros(Float64, window_size, 21)\n",
    "virtual_vector[:, end] .= 1.0\n",
    "\n",
    "d_complete_aa_vector = []\n",
    "for sequence in d_complete_aa_seq\n",
    "    sequence_length = length(sequence)\n",
    "    vec = zeros(Float64, sequence_length, 21)\n",
    "    for i in 1:sequence_length\n",
    "        for k in 1:21\n",
    "            if sequence[i] == aa_single_letters[k]\n",
    "                vec[i, k] = 1.0\n",
    "                break\n",
    "            end\n",
    "        end\n",
    "        if sum(vec[i, :]) < 0.5\n",
    "            error(\"something wrong\")\n",
    "        end\n",
    "    end\n",
    "    # add virtual terminal residues \"X\" for using windows\n",
    "    push!(d_complete_aa_vector, [virtual_vector; vec; virtual_vector])\n",
    "end"
   ]
  },
  {
   "cell_type": "code",
   "execution_count": 5,
   "metadata": {},
   "outputs": [],
   "source": [
    "# convesion from 1-of-K vectors to windowed vectors\n",
    "num_element = 0\n",
    "for seq in d_complete_aa_seq\n",
    "    num_element += length(seq)\n",
    "end\n",
    "\n",
    "d_complete_aa_vector_windowed = Matrix{Float64}(undef, num_element, 21*(window_size*2+1))\n",
    "num_element = 0\n",
    "for vec in d_complete_aa_vector\n",
    "    vec_length = size(vec, 1)\n",
    "    for i in (window_size+1):(vec_length-window_size)\n",
    "        v = vec[(i-window_size):(i+window_size), :]\n",
    "        v = v';\n",
    "        num_element += 1\n",
    "        d_complete_aa_vector_windowed[num_element, :] .= v[:]\n",
    "    end\n",
    "end"
   ]
  },
  {
   "cell_type": "code",
   "execution_count": 6,
   "metadata": {},
   "outputs": [],
   "source": [
    "# convesion from label strings to label values\n",
    "label_value = zeros(Float64, size(d_complete_aa_vector_windowed, 1))\n",
    "\n",
    "num_element = 0\n",
    "for ss in d_rule_1_3_label_ss\n",
    "    for x in ss\n",
    "        num_element += 1\n",
    "        if x == 'H'\n",
    "            label_value[num_element] = 1.0\n",
    "        elseif x == 'E'\n",
    "            label_value[num_element] = 2.0\n",
    "        elseif x == 'C'\n",
    "            label_value[num_element] = 3.0\n",
    "        else x == 'X'\n",
    "            label_value[num_element] = 4.0\n",
    "        end            \n",
    "    end\n",
    "end"
   ]
  },
  {
   "cell_type": "code",
   "execution_count": 7,
   "metadata": {},
   "outputs": [
    {
     "data": {
      "text/plain": [
       "2217707-element Array{Float64,1}:\n",
       " 3.0\n",
       " 3.0\n",
       " 1.0\n",
       " 1.0\n",
       " 1.0\n",
       " 1.0\n",
       " 3.0\n",
       " 3.0\n",
       " 3.0\n",
       " 3.0\n",
       " 3.0\n",
       " 3.0\n",
       " 3.0\n",
       " ⋮\n",
       " 3.0\n",
       " 3.0\n",
       " 1.0\n",
       " 1.0\n",
       " 1.0\n",
       " 1.0\n",
       " 1.0\n",
       " 1.0\n",
       " 1.0\n",
       " 1.0\n",
       " 3.0\n",
       " 3.0"
      ]
     },
     "execution_count": 7,
     "metadata": {},
     "output_type": "execute_result"
    }
   ],
   "source": [
    "label_value"
   ]
  },
  {
   "cell_type": "code",
   "execution_count": 8,
   "metadata": {},
   "outputs": [],
   "source": [
    "using Statistics, Printf, LIBSVM"
   ]
  },
  {
   "cell_type": "code",
   "execution_count": 9,
   "metadata": {},
   "outputs": [
    {
     "data": {
      "text/plain": [
       "LIBSVM.SVM{Float64}(SVC, LIBSVM.Kernel.RadialBasis, nothing, 567, 4, [3.0, 1.0, 2.0, 4.0], Int32[1, 2, 3, 4], Float64[], Int32[], LIBSVM.SupportVectors{Float64,Float64}(5000, Int32[1545, 2278, 750, 427], [3.0, 3.0, 3.0, 3.0, 3.0, 3.0, 3.0, 3.0, 3.0, 3.0  …  4.0, 4.0, 4.0, 4.0, 4.0, 4.0, 4.0, 4.0, 4.0, 4.0], [0.0 0.0 … 0.0 0.0; 0.0 0.0 … 0.0 0.0; … ; 0.0 0.0 … 0.0 0.0; 0.0 0.0 … 0.0 0.0], Int32[1, 2, 7, 8, 9, 10, 11, 12, 13, 14  …  4649, 4650, 4651, 4652, 4653, 4739, 4740, 4741, 4742, 4743], LIBSVM.SVMNode[LIBSVM.SVMNode(1, 0.0), LIBSVM.SVMNode(1, 0.0), LIBSVM.SVMNode(1, 0.0), LIBSVM.SVMNode(1, 0.0), LIBSVM.SVMNode(1, 0.0), LIBSVM.SVMNode(1, 0.0), LIBSVM.SVMNode(1, 0.0), LIBSVM.SVMNode(1, 0.0), LIBSVM.SVMNode(1, 0.0), LIBSVM.SVMNode(1, 0.0)  …  LIBSVM.SVMNode(1, 0.0), LIBSVM.SVMNode(1, 0.0), LIBSVM.SVMNode(1, 0.0), LIBSVM.SVMNode(1, 0.0), LIBSVM.SVMNode(1, 0.0), LIBSVM.SVMNode(1, 0.0), LIBSVM.SVMNode(1, 0.0), LIBSVM.SVMNode(1, 0.0), LIBSVM.SVMNode(1, 0.0), LIBSVM.SVMNode(1, 0.0)]), 0.0, [0.5582277536792387 0.4327515834293341 1.2639808911060144; 0.6269881712944684 0.48924669443059066 1.1204397068753735; … ; -0.8102534003127853 -0.38152292391343184 -0.41033020203906995; -0.912463273365069 -0.5325000793027952 -0.48140441417341173], Float64[], Float64[], [0.11696766954923955, -0.316458404779303, -0.6661139647964474, -0.4214242485136069, -0.7152044605261735, -0.39262627187706944], 3, 0.1, 200.0, 0.001, 1.5, 0.5, 0.1, true, false)"
      ]
     },
     "execution_count": 9,
     "metadata": {},
     "output_type": "execute_result"
    }
   ],
   "source": [
    "#model = svmtrain(d_complete_aa_vector_windowed[1:10000, :]', label_value[1:10000], kernel=Kernel.Linear, gamma=0.10, cost=1.50)\n",
    "model = svmtrain(d_complete_aa_vector_windowed[1:5000, :]', label_value[1:5000], kernel=Kernel.RadialBasis, gamma=0.10, cost=1.50)"
   ]
  },
  {
   "cell_type": "code",
   "execution_count": 10,
   "metadata": {},
   "outputs": [],
   "source": [
    "(predicted_label_value, decision_value) = svmpredict(model, d_complete_aa_vector_windowed[5001:5100, :]');"
   ]
  },
  {
   "cell_type": "code",
   "execution_count": 11,
   "metadata": {},
   "outputs": [
    {
     "name": "stdout",
     "output_type": "stream",
     "text": [
      "Accuracy: 78.00%\n"
     ]
    }
   ],
   "source": [
    "@printf \"Accuracy: %.2f%%\\n\" mean((predicted_label_value .== label_value[5001:5100]))*100"
   ]
  }
 ],
 "metadata": {
  "kernelspec": {
   "display_name": "Julia 1.4.0",
   "language": "julia",
   "name": "julia-1.4"
  },
  "language_info": {
   "file_extension": ".jl",
   "mimetype": "application/julia",
   "name": "julia",
   "version": "1.4.0"
  }
 },
 "nbformat": 4,
 "nbformat_minor": 4
}
